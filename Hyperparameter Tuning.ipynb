{
 "cells": [
  {
   "cell_type": "markdown",
   "metadata": {},
   "source": [
    "## <center> Hyperparameter Tuning in Desision Tree, Bagging & Random Forest\n",
    "                                                                                          "
   ]
  },
  {
   "cell_type": "markdown",
   "metadata": {},
   "source": [
    "### ***What are Hyperparameters?***<br> \n",
    "*In machine learning, a hyperparameter is a parameter whose value is set before the learning process begins. By contrast, the values of other parameters are derived via training.*\n",
    "\n",
    "*Hyperparameters can be classified as model hyperparameters, that cannot be inferred while fitting the machine to the training set because they refer to the model selection task, or algorithm hyperparameters, that in principle have no influence on the performance of the model but affect the speed and quality of the learning process. Different model training algorithms require different hyperparameters.*\n",
    "\n",
    "*Some of the hyperparameters are:*\n",
    "1. max_depth\n",
    "2. n_estimators\n",
    "3. min_sample_leaf\n",
    "4. min_sample_split\n",
    "5. max_samples\n",
    "6. max_features"
   ]
  },
  {
   "cell_type": "markdown",
   "metadata": {},
   "source": [
    "***What is Hyperparameter Tuning or Hyperparameter Optimization?***<br>\n",
    "*Most performance variation can be attributed to just a few hyperparameters. The tunability of an algorithm, hyperparameter, or interacting hyperparameters is a measure of how much performance can be gained by tuning it. Hyperparameter optimization or tuning is the problem of choosing a set of optimal hyperparameters for a learning algorithm.*\n",
    "\n",
    "*Hyperparameters have to be tuned so that the model can optimally solve the machine learning problem. Hyperparameter optimization finds a tuple of hyperparameters that yields an optimal model which minimizes a predefined loss function on given independent data.*"
   ]
  },
  {
   "cell_type": "markdown",
   "metadata": {},
   "source": [
    "### ***Dataset used:***<br>\n",
    "*This dataset contains 14 attributes. The \"target\" field refers to the presence of heart disease in the patient.1 represents present of heart disease and 0 represents absence of heart disease.*\n",
    "*The rest 13 attributes are:*\n",
    "1. age\n",
    "2. sex\n",
    "3. cp: chest pain type (4 values)\n",
    "4. trestbps: resting blood pressure\n",
    "5. chol: serum cholestoral in mg/dl\n",
    "6. fbs: fasting blood sugar > 120 mg/dl\n",
    "7. restecg: resting electrocardiographic results (values 0,1,2)\n",
    "8. thalach: maximum heart rate achieved\n",
    "9. exang: exercise induced angina\n",
    "10. oldpeak: ST depression induced by exercise relative to rest\n",
    "11. slope: the slope of the peak exercise ST segment\n",
    "12. ca: number of major vessels (0-3) colored by flourosopy\n",
    "13. thal: 3 = normal; 6 = fixed defect; 7 = reversable defect"
   ]
  },
  {
   "cell_type": "code",
   "execution_count": 1,
   "metadata": {},
   "outputs": [],
   "source": [
    "#Importing the necessary libraries\n",
    "import numpy as np\n",
    "import pandas as pd\n",
    "import matplotlib.pyplot as plt\n",
    "import os\n",
    "from sklearn.ensemble import RandomForestClassifier,BaggingClassifier,AdaBoostClassifier\n",
    "from sklearn.tree import DecisionTreeClassifier\n",
    "from sklearn.metrics import accuracy_score,confusion_matrix,classification_report,roc_auc_score, roc_curve\n",
    "from sklearn.model_selection import train_test_split, GridSearchCV"
   ]
  },
  {
   "cell_type": "code",
   "execution_count": 2,
   "metadata": {},
   "outputs": [],
   "source": [
    "#Reading the file\n",
    "heart = pd.read_csv('heart.csv')"
   ]
  },
  {
   "cell_type": "code",
   "execution_count": 3,
   "metadata": {},
   "outputs": [
    {
     "data": {
      "text/plain": [
       "(303, 14)"
      ]
     },
     "execution_count": 3,
     "metadata": {},
     "output_type": "execute_result"
    }
   ],
   "source": [
    "#Getting shape of the dataframe\n",
    "heart.shape"
   ]
  },
  {
   "cell_type": "code",
   "execution_count": 4,
   "metadata": {},
   "outputs": [
    {
     "data": {
      "text/html": [
       "<div>\n",
       "<style scoped>\n",
       "    .dataframe tbody tr th:only-of-type {\n",
       "        vertical-align: middle;\n",
       "    }\n",
       "\n",
       "    .dataframe tbody tr th {\n",
       "        vertical-align: top;\n",
       "    }\n",
       "\n",
       "    .dataframe thead th {\n",
       "        text-align: right;\n",
       "    }\n",
       "</style>\n",
       "<table border=\"1\" class=\"dataframe\">\n",
       "  <thead>\n",
       "    <tr style=\"text-align: right;\">\n",
       "      <th></th>\n",
       "      <th>age</th>\n",
       "      <th>sex</th>\n",
       "      <th>cp</th>\n",
       "      <th>trestbps</th>\n",
       "      <th>chol</th>\n",
       "      <th>fbs</th>\n",
       "      <th>restecg</th>\n",
       "      <th>thalach</th>\n",
       "      <th>exang</th>\n",
       "      <th>oldpeak</th>\n",
       "      <th>slope</th>\n",
       "      <th>ca</th>\n",
       "      <th>thal</th>\n",
       "      <th>target</th>\n",
       "    </tr>\n",
       "  </thead>\n",
       "  <tbody>\n",
       "    <tr>\n",
       "      <th>0</th>\n",
       "      <td>63</td>\n",
       "      <td>1</td>\n",
       "      <td>3</td>\n",
       "      <td>145</td>\n",
       "      <td>233</td>\n",
       "      <td>1</td>\n",
       "      <td>0</td>\n",
       "      <td>150</td>\n",
       "      <td>0</td>\n",
       "      <td>2.3</td>\n",
       "      <td>0</td>\n",
       "      <td>0</td>\n",
       "      <td>1</td>\n",
       "      <td>1</td>\n",
       "    </tr>\n",
       "    <tr>\n",
       "      <th>1</th>\n",
       "      <td>37</td>\n",
       "      <td>1</td>\n",
       "      <td>2</td>\n",
       "      <td>130</td>\n",
       "      <td>250</td>\n",
       "      <td>0</td>\n",
       "      <td>1</td>\n",
       "      <td>187</td>\n",
       "      <td>0</td>\n",
       "      <td>3.5</td>\n",
       "      <td>0</td>\n",
       "      <td>0</td>\n",
       "      <td>2</td>\n",
       "      <td>1</td>\n",
       "    </tr>\n",
       "    <tr>\n",
       "      <th>2</th>\n",
       "      <td>41</td>\n",
       "      <td>0</td>\n",
       "      <td>1</td>\n",
       "      <td>130</td>\n",
       "      <td>204</td>\n",
       "      <td>0</td>\n",
       "      <td>0</td>\n",
       "      <td>172</td>\n",
       "      <td>0</td>\n",
       "      <td>1.4</td>\n",
       "      <td>2</td>\n",
       "      <td>0</td>\n",
       "      <td>2</td>\n",
       "      <td>1</td>\n",
       "    </tr>\n",
       "    <tr>\n",
       "      <th>3</th>\n",
       "      <td>56</td>\n",
       "      <td>1</td>\n",
       "      <td>1</td>\n",
       "      <td>120</td>\n",
       "      <td>236</td>\n",
       "      <td>0</td>\n",
       "      <td>1</td>\n",
       "      <td>178</td>\n",
       "      <td>0</td>\n",
       "      <td>0.8</td>\n",
       "      <td>2</td>\n",
       "      <td>0</td>\n",
       "      <td>2</td>\n",
       "      <td>1</td>\n",
       "    </tr>\n",
       "    <tr>\n",
       "      <th>4</th>\n",
       "      <td>57</td>\n",
       "      <td>0</td>\n",
       "      <td>0</td>\n",
       "      <td>120</td>\n",
       "      <td>354</td>\n",
       "      <td>0</td>\n",
       "      <td>1</td>\n",
       "      <td>163</td>\n",
       "      <td>1</td>\n",
       "      <td>0.6</td>\n",
       "      <td>2</td>\n",
       "      <td>0</td>\n",
       "      <td>2</td>\n",
       "      <td>1</td>\n",
       "    </tr>\n",
       "  </tbody>\n",
       "</table>\n",
       "</div>"
      ],
      "text/plain": [
       "   age  sex  cp  trestbps  chol  fbs  restecg  thalach  exang  oldpeak  slope  \\\n",
       "0   63    1   3       145   233    1        0      150      0      2.3      0   \n",
       "1   37    1   2       130   250    0        1      187      0      3.5      0   \n",
       "2   41    0   1       130   204    0        0      172      0      1.4      2   \n",
       "3   56    1   1       120   236    0        1      178      0      0.8      2   \n",
       "4   57    0   0       120   354    0        1      163      1      0.6      2   \n",
       "\n",
       "   ca  thal  target  \n",
       "0   0     1       1  \n",
       "1   0     2       1  \n",
       "2   0     2       1  \n",
       "3   0     2       1  \n",
       "4   0     2       1  "
      ]
     },
     "execution_count": 4,
     "metadata": {},
     "output_type": "execute_result"
    }
   ],
   "source": [
    "heart.head()"
   ]
  },
  {
   "cell_type": "code",
   "execution_count": 5,
   "metadata": {},
   "outputs": [
    {
     "data": {
      "text/html": [
       "<div>\n",
       "<style scoped>\n",
       "    .dataframe tbody tr th:only-of-type {\n",
       "        vertical-align: middle;\n",
       "    }\n",
       "\n",
       "    .dataframe tbody tr th {\n",
       "        vertical-align: top;\n",
       "    }\n",
       "\n",
       "    .dataframe thead th {\n",
       "        text-align: right;\n",
       "    }\n",
       "</style>\n",
       "<table border=\"1\" class=\"dataframe\">\n",
       "  <thead>\n",
       "    <tr style=\"text-align: right;\">\n",
       "      <th></th>\n",
       "      <th>age</th>\n",
       "      <th>sex</th>\n",
       "      <th>cp</th>\n",
       "      <th>trestbps</th>\n",
       "      <th>chol</th>\n",
       "      <th>fbs</th>\n",
       "      <th>restecg</th>\n",
       "      <th>thalach</th>\n",
       "      <th>exang</th>\n",
       "      <th>oldpeak</th>\n",
       "      <th>slope</th>\n",
       "      <th>ca</th>\n",
       "      <th>thal</th>\n",
       "      <th>target</th>\n",
       "    </tr>\n",
       "  </thead>\n",
       "  <tbody>\n",
       "    <tr>\n",
       "      <th>298</th>\n",
       "      <td>57</td>\n",
       "      <td>0</td>\n",
       "      <td>0</td>\n",
       "      <td>140</td>\n",
       "      <td>241</td>\n",
       "      <td>0</td>\n",
       "      <td>1</td>\n",
       "      <td>123</td>\n",
       "      <td>1</td>\n",
       "      <td>0.2</td>\n",
       "      <td>1</td>\n",
       "      <td>0</td>\n",
       "      <td>3</td>\n",
       "      <td>0</td>\n",
       "    </tr>\n",
       "    <tr>\n",
       "      <th>299</th>\n",
       "      <td>45</td>\n",
       "      <td>1</td>\n",
       "      <td>3</td>\n",
       "      <td>110</td>\n",
       "      <td>264</td>\n",
       "      <td>0</td>\n",
       "      <td>1</td>\n",
       "      <td>132</td>\n",
       "      <td>0</td>\n",
       "      <td>1.2</td>\n",
       "      <td>1</td>\n",
       "      <td>0</td>\n",
       "      <td>3</td>\n",
       "      <td>0</td>\n",
       "    </tr>\n",
       "    <tr>\n",
       "      <th>300</th>\n",
       "      <td>68</td>\n",
       "      <td>1</td>\n",
       "      <td>0</td>\n",
       "      <td>144</td>\n",
       "      <td>193</td>\n",
       "      <td>1</td>\n",
       "      <td>1</td>\n",
       "      <td>141</td>\n",
       "      <td>0</td>\n",
       "      <td>3.4</td>\n",
       "      <td>1</td>\n",
       "      <td>2</td>\n",
       "      <td>3</td>\n",
       "      <td>0</td>\n",
       "    </tr>\n",
       "    <tr>\n",
       "      <th>301</th>\n",
       "      <td>57</td>\n",
       "      <td>1</td>\n",
       "      <td>0</td>\n",
       "      <td>130</td>\n",
       "      <td>131</td>\n",
       "      <td>0</td>\n",
       "      <td>1</td>\n",
       "      <td>115</td>\n",
       "      <td>1</td>\n",
       "      <td>1.2</td>\n",
       "      <td>1</td>\n",
       "      <td>1</td>\n",
       "      <td>3</td>\n",
       "      <td>0</td>\n",
       "    </tr>\n",
       "    <tr>\n",
       "      <th>302</th>\n",
       "      <td>57</td>\n",
       "      <td>0</td>\n",
       "      <td>1</td>\n",
       "      <td>130</td>\n",
       "      <td>236</td>\n",
       "      <td>0</td>\n",
       "      <td>0</td>\n",
       "      <td>174</td>\n",
       "      <td>0</td>\n",
       "      <td>0.0</td>\n",
       "      <td>1</td>\n",
       "      <td>1</td>\n",
       "      <td>2</td>\n",
       "      <td>0</td>\n",
       "    </tr>\n",
       "  </tbody>\n",
       "</table>\n",
       "</div>"
      ],
      "text/plain": [
       "     age  sex  cp  trestbps  chol  fbs  restecg  thalach  exang  oldpeak  \\\n",
       "298   57    0   0       140   241    0        1      123      1      0.2   \n",
       "299   45    1   3       110   264    0        1      132      0      1.2   \n",
       "300   68    1   0       144   193    1        1      141      0      3.4   \n",
       "301   57    1   0       130   131    0        1      115      1      1.2   \n",
       "302   57    0   1       130   236    0        0      174      0      0.0   \n",
       "\n",
       "     slope  ca  thal  target  \n",
       "298      1   0     3       0  \n",
       "299      1   0     3       0  \n",
       "300      1   2     3       0  \n",
       "301      1   1     3       0  \n",
       "302      1   1     2       0  "
      ]
     },
     "execution_count": 5,
     "metadata": {},
     "output_type": "execute_result"
    }
   ],
   "source": [
    "heart.tail()"
   ]
  },
  {
   "cell_type": "code",
   "execution_count": 6,
   "metadata": {},
   "outputs": [
    {
     "data": {
      "text/plain": [
       "1    165\n",
       "0    138\n",
       "Name: target, dtype: int64"
      ]
     },
     "execution_count": 6,
     "metadata": {},
     "output_type": "execute_result"
    }
   ],
   "source": [
    "#Checking the count of the classes\n",
    "heart.target.value_counts()"
   ]
  },
  {
   "cell_type": "code",
   "execution_count": 7,
   "metadata": {},
   "outputs": [
    {
     "data": {
      "text/plain": [
       "age         0\n",
       "sex         0\n",
       "cp          0\n",
       "trestbps    0\n",
       "chol        0\n",
       "fbs         0\n",
       "restecg     0\n",
       "thalach     0\n",
       "exang       0\n",
       "oldpeak     0\n",
       "slope       0\n",
       "ca          0\n",
       "thal        0\n",
       "target      0\n",
       "dtype: int64"
      ]
     },
     "execution_count": 7,
     "metadata": {},
     "output_type": "execute_result"
    }
   ],
   "source": [
    "#Checking if there are any missing values\n",
    "heart.isna().sum()"
   ]
  },
  {
   "cell_type": "code",
   "execution_count": 8,
   "metadata": {},
   "outputs": [
    {
     "data": {
      "text/html": [
       "<div>\n",
       "<style scoped>\n",
       "    .dataframe tbody tr th:only-of-type {\n",
       "        vertical-align: middle;\n",
       "    }\n",
       "\n",
       "    .dataframe tbody tr th {\n",
       "        vertical-align: top;\n",
       "    }\n",
       "\n",
       "    .dataframe thead th {\n",
       "        text-align: right;\n",
       "    }\n",
       "</style>\n",
       "<table border=\"1\" class=\"dataframe\">\n",
       "  <thead>\n",
       "    <tr style=\"text-align: right;\">\n",
       "      <th></th>\n",
       "      <th>age</th>\n",
       "      <th>sex</th>\n",
       "      <th>cp</th>\n",
       "      <th>trestbps</th>\n",
       "      <th>chol</th>\n",
       "      <th>fbs</th>\n",
       "      <th>restecg</th>\n",
       "      <th>thalach</th>\n",
       "      <th>exang</th>\n",
       "      <th>oldpeak</th>\n",
       "      <th>slope</th>\n",
       "      <th>ca</th>\n",
       "      <th>thal</th>\n",
       "    </tr>\n",
       "  </thead>\n",
       "  <tbody>\n",
       "    <tr>\n",
       "      <th>0</th>\n",
       "      <td>63</td>\n",
       "      <td>1</td>\n",
       "      <td>3</td>\n",
       "      <td>145</td>\n",
       "      <td>233</td>\n",
       "      <td>1</td>\n",
       "      <td>0</td>\n",
       "      <td>150</td>\n",
       "      <td>0</td>\n",
       "      <td>2.3</td>\n",
       "      <td>0</td>\n",
       "      <td>0</td>\n",
       "      <td>1</td>\n",
       "    </tr>\n",
       "    <tr>\n",
       "      <th>1</th>\n",
       "      <td>37</td>\n",
       "      <td>1</td>\n",
       "      <td>2</td>\n",
       "      <td>130</td>\n",
       "      <td>250</td>\n",
       "      <td>0</td>\n",
       "      <td>1</td>\n",
       "      <td>187</td>\n",
       "      <td>0</td>\n",
       "      <td>3.5</td>\n",
       "      <td>0</td>\n",
       "      <td>0</td>\n",
       "      <td>2</td>\n",
       "    </tr>\n",
       "    <tr>\n",
       "      <th>2</th>\n",
       "      <td>41</td>\n",
       "      <td>0</td>\n",
       "      <td>1</td>\n",
       "      <td>130</td>\n",
       "      <td>204</td>\n",
       "      <td>0</td>\n",
       "      <td>0</td>\n",
       "      <td>172</td>\n",
       "      <td>0</td>\n",
       "      <td>1.4</td>\n",
       "      <td>2</td>\n",
       "      <td>0</td>\n",
       "      <td>2</td>\n",
       "    </tr>\n",
       "    <tr>\n",
       "      <th>3</th>\n",
       "      <td>56</td>\n",
       "      <td>1</td>\n",
       "      <td>1</td>\n",
       "      <td>120</td>\n",
       "      <td>236</td>\n",
       "      <td>0</td>\n",
       "      <td>1</td>\n",
       "      <td>178</td>\n",
       "      <td>0</td>\n",
       "      <td>0.8</td>\n",
       "      <td>2</td>\n",
       "      <td>0</td>\n",
       "      <td>2</td>\n",
       "    </tr>\n",
       "    <tr>\n",
       "      <th>4</th>\n",
       "      <td>57</td>\n",
       "      <td>0</td>\n",
       "      <td>0</td>\n",
       "      <td>120</td>\n",
       "      <td>354</td>\n",
       "      <td>0</td>\n",
       "      <td>1</td>\n",
       "      <td>163</td>\n",
       "      <td>1</td>\n",
       "      <td>0.6</td>\n",
       "      <td>2</td>\n",
       "      <td>0</td>\n",
       "      <td>2</td>\n",
       "    </tr>\n",
       "  </tbody>\n",
       "</table>\n",
       "</div>"
      ],
      "text/plain": [
       "   age  sex  cp  trestbps  chol  fbs  restecg  thalach  exang  oldpeak  slope  \\\n",
       "0   63    1   3       145   233    1        0      150      0      2.3      0   \n",
       "1   37    1   2       130   250    0        1      187      0      3.5      0   \n",
       "2   41    0   1       130   204    0        0      172      0      1.4      2   \n",
       "3   56    1   1       120   236    0        1      178      0      0.8      2   \n",
       "4   57    0   0       120   354    0        1      163      1      0.6      2   \n",
       "\n",
       "   ca  thal  \n",
       "0   0     1  \n",
       "1   0     2  \n",
       "2   0     2  \n",
       "3   0     2  \n",
       "4   0     2  "
      ]
     },
     "execution_count": 8,
     "metadata": {},
     "output_type": "execute_result"
    }
   ],
   "source": [
    "#Separating the independent varaibles\n",
    "x = heart.drop('target',axis=1)\n",
    "x.head()"
   ]
  },
  {
   "cell_type": "code",
   "execution_count": 9,
   "metadata": {
    "scrolled": true
   },
   "outputs": [
    {
     "data": {
      "text/html": [
       "<div>\n",
       "<style scoped>\n",
       "    .dataframe tbody tr th:only-of-type {\n",
       "        vertical-align: middle;\n",
       "    }\n",
       "\n",
       "    .dataframe tbody tr th {\n",
       "        vertical-align: top;\n",
       "    }\n",
       "\n",
       "    .dataframe thead th {\n",
       "        text-align: right;\n",
       "    }\n",
       "</style>\n",
       "<table border=\"1\" class=\"dataframe\">\n",
       "  <thead>\n",
       "    <tr style=\"text-align: right;\">\n",
       "      <th></th>\n",
       "      <th>target</th>\n",
       "    </tr>\n",
       "  </thead>\n",
       "  <tbody>\n",
       "    <tr>\n",
       "      <th>0</th>\n",
       "      <td>1</td>\n",
       "    </tr>\n",
       "    <tr>\n",
       "      <th>1</th>\n",
       "      <td>1</td>\n",
       "    </tr>\n",
       "    <tr>\n",
       "      <th>2</th>\n",
       "      <td>1</td>\n",
       "    </tr>\n",
       "    <tr>\n",
       "      <th>3</th>\n",
       "      <td>1</td>\n",
       "    </tr>\n",
       "    <tr>\n",
       "      <th>4</th>\n",
       "      <td>1</td>\n",
       "    </tr>\n",
       "  </tbody>\n",
       "</table>\n",
       "</div>"
      ],
      "text/plain": [
       "   target\n",
       "0       1\n",
       "1       1\n",
       "2       1\n",
       "3       1\n",
       "4       1"
      ]
     },
     "execution_count": 9,
     "metadata": {},
     "output_type": "execute_result"
    }
   ],
   "source": [
    "#Separating the target varaible\n",
    "y = heart[['target']]\n",
    "y.head()"
   ]
  },
  {
   "cell_type": "code",
   "execution_count": 10,
   "metadata": {},
   "outputs": [],
   "source": [
    "#Separating the dataset into training and testing dataset\n",
    "x_train,x_test,y_train,y_test = train_test_split(x,y,test_size = 0.3, random_state = 4)"
   ]
  },
  {
   "cell_type": "code",
   "execution_count": 11,
   "metadata": {},
   "outputs": [],
   "source": [
    "y_train = np.array(y_train['target'])\n",
    "y_test1 = np.array(y_test['target'])"
   ]
  },
  {
   "cell_type": "markdown",
   "metadata": {},
   "source": [
    "## A) Decision Tree Classifier"
   ]
  },
  {
   "cell_type": "markdown",
   "metadata": {},
   "source": [
    "#### 1) Without Hyper parameter Optimization"
   ]
  },
  {
   "cell_type": "code",
   "execution_count": 12,
   "metadata": {},
   "outputs": [],
   "source": [
    "#Fitting a decision tree with default hyper parameters\n",
    "tree = DecisionTreeClassifier()\n",
    "tree.fit(x_train,y_train)\n",
    "pred_tree = tree.predict(x_test)"
   ]
  },
  {
   "cell_type": "code",
   "execution_count": 13,
   "metadata": {},
   "outputs": [
    {
     "name": "stdout",
     "output_type": "stream",
     "text": [
      "Checking different metrics for decision tree model with default hyper parameters:\n",
      "\n",
      "Training accuracy:  1.0\n",
      "Testing accuracy:  0.7032967032967034\n",
      "Confusion Matrix: \n",
      " [[25 13]\n",
      " [14 39]]\n",
      "ROC AUC score:  0.6968718967229395\n",
      "Classification Report: \n",
      "               precision    recall  f1-score   support\n",
      "\n",
      "           0       0.64      0.66      0.65        38\n",
      "           1       0.75      0.74      0.74        53\n",
      "\n",
      "    accuracy                           0.70        91\n",
      "   macro avg       0.70      0.70      0.70        91\n",
      "weighted avg       0.70      0.70      0.70        91\n",
      "\n"
     ]
    }
   ],
   "source": [
    "#Checking different metrics for decision tree model with default hyper parameters\n",
    "print('Checking different metrics for decision tree model with default hyper parameters:\\n')\n",
    "print(\"Training accuracy: \",tree.score(x_train,y_train))\n",
    "acc_score = accuracy_score(y_test, pred_tree)\n",
    "print('Testing accuracy: ',acc_score)\n",
    "conf_mat = confusion_matrix(y_test, pred_tree)\n",
    "print('Confusion Matrix: \\n',conf_mat)\n",
    "roc_auc = roc_auc_score(y_test1,pred_tree)\n",
    "print('ROC AUC score: ',roc_auc)\n",
    "class_rep2 = classification_report(y_test,pred_tree)\n",
    "print('Classification Report: \\n',class_rep2)"
   ]
  },
  {
   "cell_type": "markdown",
   "metadata": {},
   "source": [
    "***Observations & Conclusions:***<br>\n",
    "*We can see that the **training accuracy** of **Decision Tree** with default hyperparameters is 1 i.e. **100%** accuracy. Whereas when we fit the same model on **testing data**, the accuracy reduces to **69%** approx. Clearly the **model has overfit the training data** and also the **variance is very high** i.e. the model is behaving differently for different samples.*"
   ]
  },
  {
   "cell_type": "markdown",
   "metadata": {},
   "source": [
    "#### 2) With Hyper parameter Optimization"
   ]
  },
  {
   "cell_type": "code",
   "execution_count": 14,
   "metadata": {},
   "outputs": [
    {
     "name": "stdout",
     "output_type": "stream",
     "text": [
      "Fitting 3 folds for each of 400 candidates, totalling 1200 fits\n"
     ]
    }
   ],
   "source": [
    "#Setting values for the parameters\n",
    "#n_estimators = [100, 300, 500, 800, 1200]\n",
    "max_depth = [5, 10, 15, 25, 30]\n",
    "min_samples_split = [2, 5, 10, 15, 100]\n",
    "min_samples_leaf = [1, 2, 5, 10]\n",
    "max_features = [1, 2, 5, 10]\n",
    "\n",
    "#Creating a dictionary for the hyper parameters\n",
    "hyperT = dict(max_depth = max_depth, min_samples_split = min_samples_split, \n",
    "              min_samples_leaf = min_samples_leaf, max_features=max_features)\n",
    "\n",
    "#Applying GridSearchCV to get the best value for hyperparameters\n",
    "gridT = GridSearchCV(tree, hyperT, cv = 3, verbose = 1, n_jobs = -1)\n",
    "bestT = gridT.fit(x_train, y_train)"
   ]
  },
  {
   "cell_type": "code",
   "execution_count": 15,
   "metadata": {},
   "outputs": [
    {
     "name": "stdout",
     "output_type": "stream",
     "text": [
      "The best hyper parameters are: \n",
      " {'max_depth': 5, 'max_features': 5, 'min_samples_leaf': 2, 'min_samples_split': 15}\n"
     ]
    }
   ],
   "source": [
    "#Printing the best hyperparameters\n",
    "print('The best hyper parameters are: \\n',gridT.best_params_)"
   ]
  },
  {
   "cell_type": "markdown",
   "metadata": {},
   "source": [
    "#### 3) Fitting Descision Tree with best Hyper parameters"
   ]
  },
  {
   "cell_type": "code",
   "execution_count": 16,
   "metadata": {},
   "outputs": [],
   "source": [
    "#Fitting the decision tree model with the best hyper parameters obtained through GridSearchCV\n",
    "tree1 = DecisionTreeClassifier(criterion='gini',splitter='random',max_depth=10, min_samples_leaf=10,min_samples_split=5, max_features=10)\n",
    "tree1.fit(x_train,y_train)\n",
    "pred_tree1 = tree1.predict(x_test)"
   ]
  },
  {
   "cell_type": "code",
   "execution_count": 17,
   "metadata": {},
   "outputs": [
    {
     "name": "stdout",
     "output_type": "stream",
     "text": [
      "Checking different metrics for decision tree model after tuning the hyperparameters:\n",
      "\n",
      "Training accuracy:  0.8254716981132075\n",
      "Testing accuracy:  0.7912087912087912\n",
      "Confusion Matrix: \n",
      " [[28 10]\n",
      " [ 9 44]]\n",
      "ROC AUC score:  0.7835153922542206\n",
      "Classification Report: \n",
      "               precision    recall  f1-score   support\n",
      "\n",
      "           0       0.76      0.74      0.75        38\n",
      "           1       0.81      0.83      0.82        53\n",
      "\n",
      "    accuracy                           0.79        91\n",
      "   macro avg       0.79      0.78      0.78        91\n",
      "weighted avg       0.79      0.79      0.79        91\n",
      "\n"
     ]
    }
   ],
   "source": [
    "#Checking different metrics for decision tree model after tuning the hyperparameters\n",
    "print('Checking different metrics for decision tree model after tuning the hyperparameters:\\n')\n",
    "print(\"Training accuracy: \",tree1.score(x_train,y_train))\n",
    "acc_score = accuracy_score(y_test, pred_tree1)\n",
    "print('Testing accuracy: ',acc_score)\n",
    "conf_mat = confusion_matrix(y_test, pred_tree1)\n",
    "print('Confusion Matrix: \\n',conf_mat)\n",
    "roc_auc = roc_auc_score(y_test1,pred_tree1)\n",
    "print('ROC AUC score: ',roc_auc)\n",
    "class_rep2 = classification_report(y_test,pred_tree1)\n",
    "print('Classification Report: \\n',class_rep2)"
   ]
  },
  {
   "cell_type": "markdown",
   "metadata": {},
   "source": [
    "***Observations & Conclusions:***<br>\n",
    "*Now, when we applied the **GridSearchCV** algorithm to our model which is used to select the **best hyperparameters**, we see that the training accuracy is 81.6% aprox and testing accuracy is 73.6%. The **training accuracy** has **reduced** after tuning the hyperparameters but it has also **reduced the overfitting** in Decision Tree.*"
   ]
  },
  {
   "cell_type": "code",
   "execution_count": 18,
   "metadata": {
    "scrolled": true
   },
   "outputs": [
    {
     "name": "stdout",
     "output_type": "stream",
     "text": [
      "ROC AUC curve before and after tuning hyper parameters:\n",
      "\n"
     ]
    },
    {
     "data": {
      "image/png": "[encoded data removed]",
      "text/plain": [
       "<Figure size 432x288 with 1 Axes>"
      ]
     },
     "metadata": {
      "needs_background": "light"
     },
     "output_type": "display_data"
    }
   ],
   "source": [
    "#Plotting the ROC AUC curve before and after tuning hyper parameters\n",
    "print('ROC AUC curve before and after tuning hyper parameters:\\n')\n",
    "fpr_tree,tpr_tree,thre_tree = roc_curve(y_test,pred_tree)\n",
    "fpr_tree1,tpr_tree1,thre_tree1 = roc_curve(y_test1,pred_tree1)\n",
    "plt.clf()\n",
    "ax = plt.subplot(111)\n",
    "ax.plot(fpr_tree, tpr_tree,label=\"Without hyper parameter tuning\")\n",
    "ax.plot(fpr_tree1, tpr_tree1,label=\"With hyper parameter tuning\")\n",
    "plt.xlabel('FPR')\n",
    "plt.ylabel('TPR')\n",
    "plt.title('ROC curve')\n",
    "ax.legend()\n",
    "plt.show()"
   ]
  },
  {
   "cell_type": "markdown",
   "metadata": {},
   "source": [
    "***Observtaions & Conclusions:***<br>\n",
    "*From the ROC curve we can see that after hyperparameter tuning the **accuracy** of the model has **increased** to a certain extent against the one when we used default hyperparameters.*"
   ]
  },
  {
   "cell_type": "markdown",
   "metadata": {},
   "source": [
    "#### 4) Plotting validation curves for each hyper parameter"
   ]
  },
  {
   "cell_type": "markdown",
   "metadata": {},
   "source": [
    "#### 4)a) Maximum Depth"
   ]
  },
  {
   "cell_type": "code",
   "execution_count": 19,
   "metadata": {},
   "outputs": [],
   "source": [
    "#Plotting the validation curve of training and testing scores for max_depth\n",
    "from sklearn.model_selection import validation_curve\n",
    "param_range= max_depth\n",
    "train_scores, test_scores = validation_curve(\n",
    "                                DecisionTreeClassifier(),\n",
    "                                X = x_train, y = y_train, \n",
    "                                param_name = 'max_depth', \n",
    "                                param_range = param_range,cv = 3)"
   ]
  },
  {
   "cell_type": "code",
   "execution_count": 20,
   "metadata": {},
   "outputs": [
    {
     "data": {
      "image/png": "[encoded data removed]",
      "text/plain": [
       "<Figure size 432x288 with 1 Axes>"
      ]
     },
     "metadata": {
      "needs_background": "light"
     },
     "output_type": "display_data"
    }
   ],
   "source": [
    "#Calculate mean and standard deviation for training set\n",
    "train_mean = np.mean(train_scores, axis=1)\n",
    "train_std = np.std(train_scores, axis=1)\n",
    "\n",
    "#Calculate mean and standard deviation for testing set\n",
    "test_mean = np.mean(test_scores, axis=1)\n",
    "test_std = np.std(test_scores, axis=1)\n",
    "\n",
    "#Plot mean accuracy scores for training and testing sets\n",
    "plt.plot(param_range, train_mean, label=\"Training score\", color=\"black\")\n",
    "plt.plot(param_range, test_mean, label=\"Test score\", color=\"dimgrey\")\n",
    "\n",
    "#Create plot\n",
    "plt.title(\"Validation Curve of Max Depth for Decision Tree\")\n",
    "plt.xlabel(\"Value of Maximum Depth\")\n",
    "plt.ylabel(\"Accuracy Score\")\n",
    "plt.tight_layout()\n",
    "plt.legend(loc=\"best\")\n",
    "plt.show()"
   ]
  },
  {
   "cell_type": "markdown",
   "metadata": {},
   "source": [
    "#### 4)b) Minimum Sample Split"
   ]
  },
  {
   "cell_type": "code",
   "execution_count": 21,
   "metadata": {},
   "outputs": [],
   "source": [
    "#Plotting the validation curve of training and testing scores for min_samples_split\n",
    "from sklearn.model_selection import validation_curve\n",
    "param_range= min_samples_split\n",
    "train_scores, test_scores = validation_curve(\n",
    "                                DecisionTreeClassifier(),\n",
    "                                X = x_train, y = y_train, \n",
    "                                param_name = 'min_samples_split', \n",
    "                                param_range = param_range,cv = 3)"
   ]
  },
  {
   "cell_type": "code",
   "execution_count": 22,
   "metadata": {},
   "outputs": [
    {
     "data": {
      "image/png": "[encoded data removed]",
      "text/plain": [
       "<Figure size 432x288 with 1 Axes>"
      ]
     },
     "metadata": {
      "needs_background": "light"
     },
     "output_type": "display_data"
    }
   ],
   "source": [
    "#Calculate mean and standard deviation for training set\n",
    "train_mean = np.mean(train_scores, axis=1)\n",
    "train_std = np.std(train_scores, axis=1)\n",
    "\n",
    "#Calculate mean and standard deviation for testing set\n",
    "test_mean = np.mean(test_scores, axis=1)\n",
    "test_std = np.std(test_scores, axis=1)\n",
    "\n",
    "#Plot mean accuracy scores for training and testing sets\n",
    "plt.plot(param_range, train_mean, label=\"Training score\", color=\"black\")\n",
    "plt.plot(param_range, test_mean, label=\"Test score\", color=\"dimgrey\")\n",
    "\n",
    "#Create plot\n",
    "plt.title(\"Validation Curve of Minimum Sample Split for Decision Tree\")\n",
    "plt.xlabel(\"Value of Minimum Sample Split\")\n",
    "plt.ylabel(\"Accuracy Score\")\n",
    "plt.tight_layout()\n",
    "plt.legend(loc=\"best\")\n",
    "plt.show()"
   ]
  },
  {
   "cell_type": "markdown",
   "metadata": {},
   "source": [
    "#### 4)c) Minimum Sample Leaf"
   ]
  },
  {
   "cell_type": "code",
   "execution_count": 23,
   "metadata": {},
   "outputs": [],
   "source": [
    "#Plotting the validation curve of training and testing scores for min_samples_leaf\n",
    "from sklearn.model_selection import validation_curve\n",
    "param_range= min_samples_leaf\n",
    "train_scores, test_scores = validation_curve(\n",
    "                                DecisionTreeClassifier(),\n",
    "                                X = x_train, y = y_train, \n",
    "                                param_name = 'min_samples_leaf', \n",
    "                                param_range = param_range,cv = 3)"
   ]
  },
  {
   "cell_type": "code",
   "execution_count": 24,
   "metadata": {},
   "outputs": [
    {
     "data": {
      "image/png": "[encoded data removed]",
      "text/plain": [
       "<Figure size 432x288 with 1 Axes>"
      ]
     },
     "metadata": {
      "needs_background": "light"
     },
     "output_type": "display_data"
    }
   ],
   "source": [
    "#Calculate mean and standard deviation for training set\n",
    "train_mean = np.mean(train_scores, axis=1)\n",
    "train_std = np.std(train_scores, axis=1)\n",
    "\n",
    "#Calculate mean and standard deviation for testing set\n",
    "test_mean = np.mean(test_scores, axis=1)\n",
    "test_std = np.std(test_scores, axis=1)\n",
    "\n",
    "#Plot mean accuracy scores for training and testing sets\n",
    "plt.plot(param_range, train_mean, label=\"Training score\", color=\"black\")\n",
    "plt.plot(param_range, test_mean, label=\"Test score\", color=\"dimgrey\")\n",
    "\n",
    "\n",
    "#Create plot\n",
    "plt.title(\"Validation Curve of Minimum Sample Leaf for Decision Tree\")\n",
    "plt.xlabel(\"Value of Minimum Sample Leaf\")\n",
    "plt.ylabel(\"Accuracy Score\")\n",
    "plt.tight_layout()\n",
    "plt.legend(loc=\"best\")\n",
    "plt.show()"
   ]
  },
  {
   "cell_type": "markdown",
   "metadata": {},
   "source": [
    "## B) Bagging Classifier"
   ]
  },
  {
   "cell_type": "markdown",
   "metadata": {},
   "source": [
    "#### 1) Without Hyper parameter Optimization"
   ]
  },
  {
   "cell_type": "code",
   "execution_count": 25,
   "metadata": {},
   "outputs": [],
   "source": [
    "#Fitting Bagging Classifier model with default hyper parameters\n",
    "bagg = BaggingClassifier()\n",
    "bagg.fit(x_train,y_train)\n",
    "pred_bagg = bagg.predict(x_test)"
   ]
  },
  {
   "cell_type": "code",
   "execution_count": 26,
   "metadata": {
    "scrolled": true
   },
   "outputs": [
    {
     "name": "stdout",
     "output_type": "stream",
     "text": [
      "Checking different metrics for bagging model with default hyper parameters:\n",
      "\n",
      "Training accuracy:  0.9905660377358491\n",
      "Testing accuracy:  0.7802197802197802\n",
      "Confusion Matrix: \n",
      " [[27 11]\n",
      " [ 9 44]]\n",
      "ROC AUC score:  0.7703574975173784\n",
      "Classification Report: \n",
      "               precision    recall  f1-score   support\n",
      "\n",
      "           0       0.75      0.71      0.73        38\n",
      "           1       0.80      0.83      0.81        53\n",
      "\n",
      "    accuracy                           0.78        91\n",
      "   macro avg       0.78      0.77      0.77        91\n",
      "weighted avg       0.78      0.78      0.78        91\n",
      "\n"
     ]
    }
   ],
   "source": [
    "#Checking different metrics for bagging model with default hyper parameters\n",
    "print('Checking different metrics for bagging model with default hyper parameters:\\n')\n",
    "print(\"Training accuracy: \",bagg.score(x_train,y_train))\n",
    "acc_score = accuracy_score(y_test, pred_bagg)\n",
    "print('Testing accuracy: ',acc_score)\n",
    "conf_mat = confusion_matrix(y_test, pred_bagg)\n",
    "print('Confusion Matrix: \\n',conf_mat)\n",
    "roc_auc = roc_auc_score(y_test1,pred_bagg)\n",
    "print('ROC AUC score: ',roc_auc)\n",
    "class_rep2 = classification_report(y_test,pred_bagg)\n",
    "print('Classification Report: \\n',class_rep2)"
   ]
  },
  {
   "cell_type": "markdown",
   "metadata": {},
   "source": [
    "***Observations & Conclusions:***<br>\n",
    "*We can see that the **training accuracy** of **Bagging Classifier** with default hyperparameters is **99%** accuracy. Whereas when we fit the same model on **testing data**, the accuracy reduces to **73.6%** approx. Clearly the **model has overfit the training data** and also the **variance is very high** i.e. the model is behaving differently for different samples.*"
   ]
  },
  {
   "cell_type": "markdown",
   "metadata": {},
   "source": [
    "#### 2) With Hyper parameter Optimization"
   ]
  },
  {
   "cell_type": "code",
   "execution_count": 27,
   "metadata": {},
   "outputs": [
    {
     "name": "stdout",
     "output_type": "stream",
     "text": [
      "Fitting 3 folds for each of 125 candidates, totalling 375 fits\n"
     ]
    }
   ],
   "source": [
    "#Setting values for the parameters\n",
    "n_estimators = [100, 300, 500, 800, 1200]\n",
    "#max_depth = [5, 10, 15, 25, 30]\n",
    "max_samples = [5, 10, 25, 50, 100]\n",
    "max_features = [1, 2, 5, 10, 13]\n",
    "\n",
    "#Creating a dictionary for the hyper parameters\n",
    "hyperbag = dict(n_estimators = n_estimators, max_samples = max_samples, \n",
    "              max_features = max_features)\n",
    "\n",
    "#Applying GridSearchCV to get the best value for hyperparameters\n",
    "gridbag = GridSearchCV(bagg, hyperbag, cv = 3, verbose = 1, n_jobs = -1)\n",
    "bestbag = gridbag.fit(x_train, y_train)"
   ]
  },
  {
   "cell_type": "code",
   "execution_count": 28,
   "metadata": {},
   "outputs": [
    {
     "name": "stdout",
     "output_type": "stream",
     "text": [
      "The best hyper parameters are:\n",
      " {'max_features': 10, 'max_samples': 100, 'n_estimators': 800}\n"
     ]
    }
   ],
   "source": [
    "#Printing the best hyperparameters\n",
    "print('The best hyper parameters are:\\n',gridbag.best_params_)"
   ]
  },
  {
   "cell_type": "markdown",
   "metadata": {},
   "source": [
    "#### 3) Fitting Bagging Classifier with best Hyper parameters"
   ]
  },
  {
   "cell_type": "code",
   "execution_count": 29,
   "metadata": {},
   "outputs": [],
   "source": [
    "#Fitting the bagging model with the best hyper parameters obtained through GridSearchCV\n",
    "bagg1 = BaggingClassifier(max_features=10, max_samples=25,n_estimators= 100)\n",
    "bagg1.fit(x_train,y_train)\n",
    "pred_bagg1 = bagg1.predict(x_test)"
   ]
  },
  {
   "cell_type": "code",
   "execution_count": 30,
   "metadata": {
    "scrolled": true
   },
   "outputs": [
    {
     "name": "stdout",
     "output_type": "stream",
     "text": [
      "Checking different metrics for bagging model after tuning the hyperparameters:\n",
      "\n",
      "Training accuracy:  0.8820754716981132\n",
      "Testing accuracy:  0.8131868131868132\n",
      "Confusion Matrix: \n",
      " [[26 12]\n",
      " [ 5 48]]\n",
      "ROC AUC score:  0.79493545183714\n",
      "Classification Report: \n",
      "               precision    recall  f1-score   support\n",
      "\n",
      "           0       0.84      0.68      0.75        38\n",
      "           1       0.80      0.91      0.85        53\n",
      "\n",
      "    accuracy                           0.81        91\n",
      "   macro avg       0.82      0.79      0.80        91\n",
      "weighted avg       0.82      0.81      0.81        91\n",
      "\n"
     ]
    }
   ],
   "source": [
    "#Checking different metrics for bagging model after tuning the hyperparameters\n",
    "print('Checking different metrics for bagging model after tuning the hyperparameters:\\n')\n",
    "print(\"Training accuracy: \",bagg1.score(x_train,y_train))\n",
    "acc_score = accuracy_score(y_test, pred_bagg1)\n",
    "print('Testing accuracy: ',acc_score)\n",
    "conf_mat = confusion_matrix(y_test, pred_bagg1)\n",
    "print('Confusion Matrix: \\n',conf_mat)\n",
    "roc_auc = roc_auc_score(y_test1,pred_bagg1)\n",
    "print('ROC AUC score: ',roc_auc)\n",
    "class_rep2 = classification_report(y_test,pred_bagg1)\n",
    "print('Classification Report: \\n',class_rep2)"
   ]
  },
  {
   "cell_type": "markdown",
   "metadata": {},
   "source": [
    "***Obsservations & Conclusions:***<br>\n",
    "*Now, when we applied the **GridSearchCV** algorithm to our model which is used to select the **best hyperparameters**, we see that the training accuracy has reduced to 88% aprox and testing accuracy has increased to 74% approx. The **training accuracy** has **reduced** after tuning the hyperparameters but it has also **reduced the overfitting** in our model. Although the **difference between training and testing accuracy is still high** which suggests there is a bit of overfitting, but this **may vary for different samples**. But overall, the accuracy has increased and overfitting is decreased.*"
   ]
  },
  {
   "cell_type": "code",
   "execution_count": 31,
   "metadata": {
    "scrolled": true
   },
   "outputs": [
    {
     "name": "stdout",
     "output_type": "stream",
     "text": [
      "ROC AUC curve before and after tuning hyper parameters:\n",
      "\n"
     ]
    },
    {
     "data": {
      "image/png": "[encoded data removed]",
      "text/plain": [
       "<Figure size 432x288 with 1 Axes>"
      ]
     },
     "metadata": {
      "needs_background": "light"
     },
     "output_type": "display_data"
    }
   ],
   "source": [
    "#Plotting the ROC AUC curve before and after tuning hyper parameters\n",
    "print('ROC AUC curve before and after tuning hyper parameters:\\n')\n",
    "fpr_bag,tpr_bag,thre_bag = roc_curve(y_test1,pred_bagg)\n",
    "fpr_bag1,tpr_bag1,thre_bag1 = roc_curve(y_test1,pred_bagg1)\n",
    "plt.clf()\n",
    "ax = plt.subplot(111)\n",
    "ax.plot(fpr_bag, tpr_bag,label=\"Without hyper parameter tuning\")\n",
    "ax.plot(fpr_bag1, tpr_bag1,label=\"With hyper parameter tuning\")\n",
    "plt.xlabel('FPR')\n",
    "plt.ylabel('TPR')\n",
    "plt.title('ROC curve')\n",
    "ax.legend()\n",
    "plt.show()"
   ]
  },
  {
   "cell_type": "markdown",
   "metadata": {},
   "source": [
    "***Observations & Conclusions:***<br>\n",
    "*From the ROC curve we can see that after hyperparameter tuning the **accuracy** of the model has **increased** to a certain extent against the one when we used default hyperparameters.*"
   ]
  },
  {
   "cell_type": "markdown",
   "metadata": {},
   "source": [
    "#### 4) Plotting validation curves for each hyper parameter"
   ]
  },
  {
   "cell_type": "markdown",
   "metadata": {},
   "source": [
    "#### 4)a) N Estimators"
   ]
  },
  {
   "cell_type": "code",
   "execution_count": 32,
   "metadata": {},
   "outputs": [],
   "source": [
    "#Plotting the validation curve of training and testing scores for n_estimators\n",
    "from sklearn.model_selection import validation_curve\n",
    "param_range= n_estimators\n",
    "train_scores, test_scores = validation_curve(\n",
    "                                BaggingClassifier(),\n",
    "                                X = x_train, y = y_train, \n",
    "                                param_name = 'n_estimators', \n",
    "                                param_range = param_range,cv = 3)"
   ]
  },
  {
   "cell_type": "code",
   "execution_count": 33,
   "metadata": {},
   "outputs": [
    {
     "data": {
      "image/png": "[encoded data removed]",
      "text/plain": [
       "<Figure size 432x288 with 1 Axes>"
      ]
     },
     "metadata": {
      "needs_background": "light"
     },
     "output_type": "display_data"
    }
   ],
   "source": [
    "#Calculate mean and standard deviation for training set\n",
    "train_mean = np.mean(train_scores, axis=1)\n",
    "train_std = np.std(train_scores, axis=1)\n",
    "\n",
    "#Calculate mean and standard deviation for testing set\n",
    "test_mean = np.mean(test_scores, axis=1)\n",
    "test_std = np.std(test_scores, axis=1)\n",
    "\n",
    "#Plot mean accuracy scores for training and testing sets\n",
    "plt.plot(param_range, train_mean, label=\"Training score\", color=\"black\")\n",
    "plt.plot(param_range, test_mean, label=\"Test score\", color=\"dimgrey\")\n",
    "\n",
    "#Create plot\n",
    "plt.title(\"Validation Curve of N Estimators for Bagging Classifier\")\n",
    "plt.xlabel(\"Value of N Estimators\")\n",
    "plt.ylabel(\"Accuracy Score\")\n",
    "plt.tight_layout()\n",
    "plt.legend(loc=\"best\")\n",
    "plt.show()"
   ]
  },
  {
   "cell_type": "markdown",
   "metadata": {},
   "source": [
    "#### 4)b) Maximum Features"
   ]
  },
  {
   "cell_type": "code",
   "execution_count": 34,
   "metadata": {},
   "outputs": [],
   "source": [
    "#Plotting the validation curve of training and testing scores for max_features\n",
    "from sklearn.model_selection import validation_curve\n",
    "param_range= max_features\n",
    "train_scores, test_scores = validation_curve(\n",
    "                                BaggingClassifier(),\n",
    "                                X = x_train, y = y_train, \n",
    "                                param_name = 'max_features', \n",
    "                                param_range = param_range,cv = 3)"
   ]
  },
  {
   "cell_type": "code",
   "execution_count": 35,
   "metadata": {},
   "outputs": [
    {
     "data": {
      "image/png": "[encoded data removed]",
      "text/plain": [
       "<Figure size 432x288 with 1 Axes>"
      ]
     },
     "metadata": {
      "needs_background": "light"
     },
     "output_type": "display_data"
    }
   ],
   "source": [
    "#Calculate mean and standard deviation for training set\n",
    "train_mean = np.mean(train_scores, axis=1)\n",
    "train_std = np.std(train_scores, axis=1)\n",
    "\n",
    "#Calculate mean and standard deviation for testing set\n",
    "test_mean = np.mean(test_scores, axis=1)\n",
    "test_std = np.std(test_scores, axis=1)\n",
    "\n",
    "#Plot mean accuracy scores for training and testing sets\n",
    "plt.plot(param_range, train_mean, label=\"Training score\", color=\"black\")\n",
    "plt.plot(param_range, test_mean, label=\"Test score\", color=\"dimgrey\")\n",
    "\n",
    "#Create plot\n",
    "plt.title(\"Validation Curve of Maximum Features for Bagging Classifier\")\n",
    "plt.xlabel(\"Value of Minimum Sample Split\")\n",
    "plt.ylabel(\"Accuracy Score\")\n",
    "plt.tight_layout()\n",
    "plt.legend(loc=\"best\")\n",
    "plt.show()"
   ]
  },
  {
   "cell_type": "markdown",
   "metadata": {},
   "source": [
    "#### 4)c) Maximum Samples"
   ]
  },
  {
   "cell_type": "code",
   "execution_count": 36,
   "metadata": {},
   "outputs": [],
   "source": [
    "from sklearn.model_selection import validation_curve\n",
    "param_range= max_samples\n",
    "train_scores, test_scores = validation_curve(\n",
    "                                BaggingClassifier(),\n",
    "                                X = x_train, y = y_train, \n",
    "                                param_name = 'max_samples', \n",
    "                                param_range = param_range,cv = 3)"
   ]
  },
  {
   "cell_type": "code",
   "execution_count": 37,
   "metadata": {},
   "outputs": [
    {
     "data": {
      "image/png": "[encoded data removed]",
      "text/plain": [
       "<Figure size 432x288 with 1 Axes>"
      ]
     },
     "metadata": {
      "needs_background": "light"
     },
     "output_type": "display_data"
    }
   ],
   "source": [
    "# Calculate mean and standard deviation for training set\n",
    "train_mean = np.mean(train_scores, axis=1)\n",
    "train_std = np.std(train_scores, axis=1)\n",
    "\n",
    "# Calculate mean and standard deviation for testing set\n",
    "test_mean = np.mean(test_scores, axis=1)\n",
    "test_std = np.std(test_scores, axis=1)\n",
    "\n",
    "# Plot mean accuracy scores for training and testing sets\n",
    "plt.plot(param_range, train_mean, label=\"Training score\", color=\"black\")\n",
    "plt.plot(param_range, test_mean, label=\"Test score\", color=\"dimgrey\")\n",
    "\n",
    "\n",
    "# Create plot\n",
    "plt.title(\"Validation Curve of Maximum Samples for Bagging Classifier\")\n",
    "plt.xlabel(\"Value of Minimum Sample Leaf\")\n",
    "plt.ylabel(\"Accuracy Score\")\n",
    "plt.tight_layout()\n",
    "plt.legend(loc=\"best\")\n",
    "plt.show()"
   ]
  },
  {
   "cell_type": "markdown",
   "metadata": {},
   "source": [
    "## C) Random Forest Classifier"
   ]
  },
  {
   "cell_type": "markdown",
   "metadata": {},
   "source": [
    "#### 1) Without Hyper parameter Optimization"
   ]
  },
  {
   "cell_type": "code",
   "execution_count": 38,
   "metadata": {},
   "outputs": [],
   "source": [
    "rf = RandomForestClassifier()\n",
    "rf.fit(x_train,y_train)\n",
    "pred_rf = rf.predict(x_test)"
   ]
  },
  {
   "cell_type": "code",
   "execution_count": 39,
   "metadata": {},
   "outputs": [
    {
     "name": "stdout",
     "output_type": "stream",
     "text": [
      "Checking different metrics for random forest model with default hyper parameters:\n",
      "\n",
      "Training accuracy:  1.0\n",
      "Testing accuracy:  0.7912087912087912\n",
      "Confusion Matrix: \n",
      " [[28 10]\n",
      " [ 9 44]]\n",
      "ROC AUC score:  0.7835153922542206\n",
      "Classification Report: \n",
      "               precision    recall  f1-score   support\n",
      "\n",
      "           0       0.76      0.74      0.75        38\n",
      "           1       0.81      0.83      0.82        53\n",
      "\n",
      "    accuracy                           0.79        91\n",
      "   macro avg       0.79      0.78      0.78        91\n",
      "weighted avg       0.79      0.79      0.79        91\n",
      "\n"
     ]
    }
   ],
   "source": [
    "#Checking different metrics for random forest model with default hyper parameters\n",
    "print('Checking different metrics for random forest model with default hyper parameters:\\n')\n",
    "print(\"Training accuracy: \",rf.score(x_train,y_train))\n",
    "acc_score = accuracy_score(y_test, pred_rf)\n",
    "print('Testing accuracy: ',acc_score)\n",
    "conf_mat = confusion_matrix(y_test, pred_rf)\n",
    "print('Confusion Matrix: \\n',conf_mat)\n",
    "roc_auc = roc_auc_score(y_test1,pred_rf)\n",
    "print('ROC AUC score: ',roc_auc)\n",
    "class_rep3 = classification_report(y_test,pred_rf)\n",
    "print('Classification Report: \\n',class_rep3)"
   ]
  },
  {
   "cell_type": "markdown",
   "metadata": {},
   "source": [
    "***Observations & Conclusions:***<br>\n",
    "*We can see that the **training accuracy** of **Random Forest Classifier** with default hyperparameters is **99%** accuracy. Whereas when we fit the same model on **testing data**, the accuracy reduces to **79%** approx. Clearly the **model has overfit the training data** and also the **variance is very high** i.e. the model is behaving differently for different samples.*"
   ]
  },
  {
   "cell_type": "markdown",
   "metadata": {},
   "source": [
    "#### 2) With Hyper parameter Optimization"
   ]
  },
  {
   "cell_type": "code",
   "execution_count": 40,
   "metadata": {},
   "outputs": [
    {
     "name": "stdout",
     "output_type": "stream",
     "text": [
      "Fitting 3 folds for each of 500 candidates, totalling 1500 fits\n"
     ]
    }
   ],
   "source": [
    "#Setting values for the parameters\n",
    "n_estimators = [100, 300, 500, 800, 1200]\n",
    "max_depth = [5, 10, 15, 25, 30]\n",
    "min_samples_split = [2, 5, 10, 15, 100]\n",
    "min_samples_leaf = [1, 2, 5, 10]\n",
    "\n",
    "#Creating a dictionary for the hyper parameters\n",
    "hyper_rf = dict(n_estimators = n_estimators, max_depth = max_depth, \n",
    "              min_samples_split = min_samples_split, min_samples_leaf = min_samples_leaf)\n",
    "\n",
    "#Applying GridSearchCV to get the best value for hyperparameters\n",
    "gridrf = GridSearchCV(rf, hyper_rf, cv = 3, verbose = 1, n_jobs = -1)\n",
    "bestrf = gridrf.fit(x_train, y_train)"
   ]
  },
  {
   "cell_type": "code",
   "execution_count": 41,
   "metadata": {},
   "outputs": [
    {
     "name": "stdout",
     "output_type": "stream",
     "text": [
      "The best hyper parameters are:\n",
      " {'max_depth': 25, 'min_samples_leaf': 1, 'min_samples_split': 5, 'n_estimators': 300}\n"
     ]
    }
   ],
   "source": [
    "#Printing the best hyperparameters\n",
    "print('The best hyper parameters are:\\n',gridrf.best_params_)"
   ]
  },
  {
   "cell_type": "code",
   "execution_count": 42,
   "metadata": {},
   "outputs": [],
   "source": [
    "#Fitting the random forest model with the best hyper parameters obtained through GridSearchCV\n",
    "rf1 = RandomForestClassifier(max_depth=5, min_samples_leaf=5, min_samples_split=5, n_estimators=100)\n",
    "rf1.fit(x_train,y_train)\n",
    "pred_rf1 = rf1.predict(x_test)"
   ]
  },
  {
   "cell_type": "code",
   "execution_count": 43,
   "metadata": {},
   "outputs": [
    {
     "name": "stdout",
     "output_type": "stream",
     "text": [
      "Checking different metrics for random forest model after tuning the hyperparameters:\n",
      "\n",
      "Training accuracy:  0.9056603773584906\n",
      "Testing accuracy:  0.8461538461538461\n",
      "Confusion Matrix: \n",
      " [[28 10]\n",
      " [ 4 49]]\n",
      "ROC AUC score:  0.8306852035749752\n",
      "Classification Report: \n",
      "               precision    recall  f1-score   support\n",
      "\n",
      "           0       0.88      0.74      0.80        38\n",
      "           1       0.83      0.92      0.88        53\n",
      "\n",
      "    accuracy                           0.85        91\n",
      "   macro avg       0.85      0.83      0.84        91\n",
      "weighted avg       0.85      0.85      0.84        91\n",
      "\n"
     ]
    }
   ],
   "source": [
    "#Checking different metrics for random forest model after tuning the hyperparameters\n",
    "print('Checking different metrics for random forest model after tuning the hyperparameters:\\n')\n",
    "print(\"Training accuracy: \",rf1.score(x_train,y_train))\n",
    "acc_score = accuracy_score(y_test, pred_rf1)\n",
    "print('Testing accuracy: ',acc_score)\n",
    "conf_mat = confusion_matrix(y_test, pred_rf1)\n",
    "print('Confusion Matrix: \\n',conf_mat)\n",
    "roc_auc = roc_auc_score(y_test1,pred_rf1)\n",
    "print('ROC AUC score: ',roc_auc)\n",
    "class_rep3 = classification_report(y_test,pred_rf1)\n",
    "print('Classification Report: \\n',class_rep3)"
   ]
  },
  {
   "cell_type": "markdown",
   "metadata": {},
   "source": [
    "***Obsservations & Conclusions:***<br>\n",
    "*Now, when we applied the **GridSearchCV** algorithm to our model which is used to select the **best hyperparameters**, we see that the training accuracy has reduced to 88% aprox and testing accuracy has increased to 84.6%. The **training accuracy** has **reduced** after tuning the hyperparameters but it has also **reduced the overfitting** in our model.*"
   ]
  },
  {
   "cell_type": "code",
   "execution_count": 44,
   "metadata": {
    "scrolled": true
   },
   "outputs": [
    {
     "name": "stdout",
     "output_type": "stream",
     "text": [
      "ROC AUC curve before and after tuning hyper parameters:\n",
      "\n"
     ]
    },
    {
     "data": {
      "image/png": "[encoded data removed]",
      "text/plain": [
       "<Figure size 432x288 with 1 Axes>"
      ]
     },
     "metadata": {
      "needs_background": "light"
     },
     "output_type": "display_data"
    }
   ],
   "source": [
    "#Plotting the ROC AUC curve before and after tuning hyper parameters\n",
    "print('ROC AUC curve before and after tuning hyper parameters:\\n')\n",
    "fpr_rf,tpr_rf,thre_rf = roc_curve(y_test,pred_rf)\n",
    "fpr_rf1,tpr_rf1,thre_rf1 = roc_curve(y_test1,pred_rf1)\n",
    "plt.clf()\n",
    "ax = plt.subplot(111)\n",
    "ax.plot(fpr_rf, tpr_rf,label=\"Without hyper parameter tuning\")\n",
    "ax.plot(fpr_rf1, tpr_rf1,label=\"With hyper parameter tuning\")\n",
    "plt.xlabel('FPR')\n",
    "plt.ylabel('TPR')\n",
    "plt.title('ROC curve')\n",
    "ax.legend()\n",
    "plt.show()"
   ]
  },
  {
   "cell_type": "markdown",
   "metadata": {},
   "source": [
    "***Observations & Conclusions:***<br>\n",
    "*From the ROC curve we can see that after hyperparameter tuning the **accuracy** of the model has **increased** to a certain extent against the one when we used default hyperparameters.*"
   ]
  },
  {
   "cell_type": "markdown",
   "metadata": {},
   "source": [
    "#### 4) Plotting validation curves for each hyper parameter"
   ]
  },
  {
   "cell_type": "markdown",
   "metadata": {},
   "source": [
    "#### 4)a) N Estimators"
   ]
  },
  {
   "cell_type": "code",
   "execution_count": 45,
   "metadata": {},
   "outputs": [],
   "source": [
    "#Plotting the validation curve of training and testing scores for n_estimators\n",
    "from sklearn.model_selection import validation_curve\n",
    "param_range= n_estimators\n",
    "train_scores, test_scores = validation_curve(\n",
    "                                RandomForestClassifier(),\n",
    "                                X = x_train, y = y_train, \n",
    "                                param_name = 'n_estimators', \n",
    "                                param_range = param_range,cv = 3)"
   ]
  },
  {
   "cell_type": "code",
   "execution_count": 46,
   "metadata": {},
   "outputs": [
    {
     "data": {
      "image/png": "[encoded data removed]",
      "text/plain": [
       "<Figure size 432x288 with 1 Axes>"
      ]
     },
     "metadata": {
      "needs_background": "light"
     },
     "output_type": "display_data"
    }
   ],
   "source": [
    "#Calculate mean and standard deviation for training set\n",
    "train_mean = np.mean(train_scores, axis=1)\n",
    "train_std = np.std(train_scores, axis=1)\n",
    "\n",
    "#Calculate mean and standard deviation for testing set\n",
    "test_mean = np.mean(test_scores, axis=1)\n",
    "test_std = np.std(test_scores, axis=1)\n",
    "\n",
    "#Plot mean accuracy scores for training and testing sets\n",
    "plt.plot(param_range, train_mean, label=\"Training score\", color=\"black\")\n",
    "plt.plot(param_range, test_mean, label=\"Test score\", color=\"dimgrey\")\n",
    "\n",
    "#Create plot\n",
    "plt.title(\"Validation Curve of N Estimators for Random Forest Classifier\")\n",
    "plt.xlabel(\"Value of N Estimators\")\n",
    "plt.ylabel(\"Accuracy Score\")\n",
    "plt.tight_layout()\n",
    "plt.legend(loc=\"best\")\n",
    "plt.show()"
   ]
  },
  {
   "cell_type": "markdown",
   "metadata": {},
   "source": [
    "#### 4)b) Maximum Depth"
   ]
  },
  {
   "cell_type": "code",
   "execution_count": 47,
   "metadata": {
    "scrolled": true
   },
   "outputs": [],
   "source": [
    "#Plotting the validation curve of training and testing scores for max_depth\n",
    "from sklearn.model_selection import validation_curve\n",
    "param_range= max_depth\n",
    "train_scores, test_scores = validation_curve(\n",
    "                                RandomForestClassifier(),\n",
    "                                X = x_train, y = y_train, \n",
    "                                param_name = 'max_depth', \n",
    "                                param_range = param_range,cv = 3)"
   ]
  },
  {
   "cell_type": "code",
   "execution_count": 48,
   "metadata": {},
   "outputs": [
    {
     "data": {
      "image/png": "[encoded data removed]",
      "text/plain": [
       "<Figure size 432x288 with 1 Axes>"
      ]
     },
     "metadata": {
      "needs_background": "light"
     },
     "output_type": "display_data"
    }
   ],
   "source": [
    "#Calculate mean and standard deviation for training set\n",
    "train_mean = np.mean(train_scores, axis=1)\n",
    "train_std = np.std(train_scores, axis=1)\n",
    "\n",
    "#Calculate mean and standard deviation for testing set\n",
    "test_mean = np.mean(test_scores, axis=1)\n",
    "test_std = np.std(test_scores, axis=1)\n",
    "\n",
    "#Plot mean accuracy scores for training and testing sets\n",
    "plt.plot(param_range, train_mean, label=\"Training score\", color=\"black\")\n",
    "plt.plot(param_range, test_mean, label=\"Test score\", color=\"dimgrey\")\n",
    "\n",
    "#Create plot\n",
    "plt.title(\"Validation Curve of Max Depth for Random Forest Classifier\")\n",
    "plt.xlabel(\"Value of Maximum Depth\")\n",
    "plt.ylabel(\"Accuracy Score\")\n",
    "plt.tight_layout()\n",
    "plt.legend(loc=\"best\")\n",
    "plt.show()"
   ]
  },
  {
   "cell_type": "markdown",
   "metadata": {},
   "source": [
    "#### 4)c) Minimum Sample Split"
   ]
  },
  {
   "cell_type": "code",
   "execution_count": 49,
   "metadata": {
    "scrolled": true
   },
   "outputs": [],
   "source": [
    "#Plotting the validation curve of training and testing scores for min_samples_split\n",
    "from sklearn.model_selection import validation_curve\n",
    "param_range= min_samples_split\n",
    "train_scores, test_scores = validation_curve(\n",
    "                                RandomForestClassifier(),\n",
    "                                X = x_train, y = y_train, \n",
    "                                param_name = 'min_samples_split', \n",
    "                                param_range = param_range,cv = 3)"
   ]
  },
  {
   "cell_type": "code",
   "execution_count": 50,
   "metadata": {},
   "outputs": [
    {
     "data": {
      "image/png": "[encoded data removed]",
      "text/plain": [
       "<Figure size 432x288 with 1 Axes>"
      ]
     },
     "metadata": {
      "needs_background": "light"
     },
     "output_type": "display_data"
    }
   ],
   "source": [
    "#Calculate mean and standard deviation for training set\n",
    "train_mean = np.mean(train_scores, axis=1)\n",
    "train_std = np.std(train_scores, axis=1)\n",
    "\n",
    "#Calculate mean and standard deviation for testing set\n",
    "test_mean = np.mean(test_scores, axis=1)\n",
    "test_std = np.std(test_scores, axis=1)\n",
    "\n",
    "#Plot mean accuracy scores for training and testing sets\n",
    "plt.plot(param_range, train_mean, label=\"Training score\", color=\"black\")\n",
    "plt.plot(param_range, test_mean, label=\"Test score\", color=\"dimgrey\")\n",
    "\n",
    "#Create plot\n",
    "plt.title(\"Validation Curve of Minimum Sample Split for Random Forest Classifier\")\n",
    "plt.xlabel(\"Value of Minimum Sample Split\")\n",
    "plt.ylabel(\"Accuracy Score\")\n",
    "plt.tight_layout()\n",
    "plt.legend(loc=\"best\")\n",
    "plt.show()"
   ]
  },
  {
   "cell_type": "markdown",
   "metadata": {},
   "source": [
    "#### 4)d) Minimum Sample Leaf"
   ]
  },
  {
   "cell_type": "code",
   "execution_count": 51,
   "metadata": {
    "scrolled": true
   },
   "outputs": [],
   "source": [
    "#Plotting the validation curve of training and testing scores for min_samples_leaf\n",
    "from sklearn.model_selection import validation_curve\n",
    "param_range= min_samples_leaf\n",
    "train_scores, test_scores = validation_curve(\n",
    "                                RandomForestClassifier(),\n",
    "                                X = x_train, y = y_train, \n",
    "                                param_name = 'min_samples_leaf', \n",
    "                                param_range = param_range,cv = 3)"
   ]
  },
  {
   "cell_type": "code",
   "execution_count": 52,
   "metadata": {},
   "outputs": [
    {
     "data": {
      "image/png": "[encoded data removed]",
      "text/plain": [
       "<Figure size 432x288 with 1 Axes>"
      ]
     },
     "metadata": {
      "needs_background": "light"
     },
     "output_type": "display_data"
    }
   ],
   "source": [
    "#Calculate mean and standard deviation for training set\n",
    "train_mean = np.mean(train_scores, axis=1)\n",
    "train_std = np.std(train_scores, axis=1)\n",
    "\n",
    "#Calculate mean and standard deviation for testing set\n",
    "test_mean = np.mean(test_scores, axis=1)\n",
    "test_std = np.std(test_scores, axis=1)\n",
    "\n",
    "#Plot mean accuracy scores for training and testing sets\n",
    "plt.plot(param_range, train_mean, label=\"Training score\", color=\"black\")\n",
    "plt.plot(param_range, test_mean, label=\"Test score\", color=\"dimgrey\")\n",
    "\n",
    "\n",
    "#Create plot\n",
    "plt.title(\"Validation Curve of Minimum Sample Leaf for Random Forest Classifier\")\n",
    "plt.xlabel(\"Value of Minimum Sample Leaf\")\n",
    "plt.ylabel(\"Accuracy Score\")\n",
    "plt.tight_layout()\n",
    "plt.legend(loc=\"best\")\n",
    "plt.show()"
   ]
  },
  {
   "cell_type": "code",
   "execution_count": null,
   "metadata": {},
   "outputs": [],
   "source": []
  }
 ],
 "metadata": {
  "kernelspec": {
   "display_name": "Python 3 (ipykernel)",
   "language": "python",
   "name": "python3"
  },
  "language_info": {
   "codemirror_mode": {
    "name": "ipython",
    "version": 3
   },
   "file_extension": ".py",
   "mimetype": "text/x-python",
   "name": "python",
   "nbconvert_exporter": "python",
   "pygments_lexer": "ipython3",
   "version": "3.9.10"
  }
 },
 "nbformat": 4,
 "nbformat_minor": 2
}
